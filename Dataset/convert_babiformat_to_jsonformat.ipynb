{
 "cells": [
  {
   "cell_type": "code",
   "execution_count": 4,
   "id": "65dff6d0",
   "metadata": {},
   "outputs": [],
   "source": [
    "import os\n",
    "import csv\n",
    "import json\n",
    "\n",
    "babi_format_path = './babi_format/'\n",
    "json_format_path = './json_format/'\n",
    "\n",
    "for noise_type in ['clean', 'noise']:\n",
    "    if not os.path.exists(json_format_path+noise_type):\n",
    "        os.makedirs(json_format_path+noise_type)\n",
    "    \n",
    "for noise_type in ['clean', 'noise']:\n",
    "    for file_type in ['train', 'valid', 'test']:\n",
    "        for i in range(1, 11):\n",
    "            output = {}\n",
    "            output_file_name = \"qa{}_{}.json\".format(i, file_type)\n",
    "            file_name = \"qa{}_{}.txt\".format(i, file_type)\n",
    "            with open(os.path.join(babi_format_path + noise_type, file_name), 'r') as f:\n",
    "                lines = f.readlines()\n",
    "                story = []\n",
    "                count = 0\n",
    "                for line in lines:\n",
    "                    line = line.strip().strip('\\n')\n",
    "                    number, sentence = line.split(' ', 1)\n",
    "                    if int(number) == 1:\n",
    "                        if story:\n",
    "                            output[count] = {\n",
    "                                'story': story,\n",
    "                                'question': question,\n",
    "                                'label': answer\n",
    "                            }\n",
    "                            count += 1\n",
    "                            story = []\n",
    "                        story.append(sentence)\n",
    "                    else:\n",
    "                        if '\\t' in sentence:\n",
    "                            question, answer, _ = sentence.split('\\t')\n",
    "                        else:\n",
    "                            story.append(sentence)\n",
    "                \n",
    "                with open(os.path.join(json_format_path+noise_type, output_file_name), 'w') as f_output:\n",
    "                    json.dump(output, f_output)"
   ]
  },
  {
   "cell_type": "code",
   "execution_count": null,
   "id": "2fdc52ec",
   "metadata": {},
   "outputs": [],
   "source": []
  }
 ],
 "metadata": {
  "kernelspec": {
   "display_name": "Python 3 (ipykernel)",
   "language": "python",
   "name": "python3"
  },
  "language_info": {
   "codemirror_mode": {
    "name": "ipython",
    "version": 3
   },
   "file_extension": ".py",
   "mimetype": "text/x-python",
   "name": "python",
   "nbconvert_exporter": "python",
   "pygments_lexer": "ipython3",
   "version": "3.8.8"
  }
 },
 "nbformat": 4,
 "nbformat_minor": 5
}
